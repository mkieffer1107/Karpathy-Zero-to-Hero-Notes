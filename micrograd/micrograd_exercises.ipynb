{
  "cells": [
    {
      "attachments": {},
      "cell_type": "markdown",
      "metadata": {
        "id": "JnGHatCI51JP"
      },
      "source": [
        "# micrograd exercises\n",
        "\n",
        "1. watch the [micrograd video](https://www.youtube.com/watch?v=VMj-3S1tku0) on YouTube\n",
        "2. come back and complete these exercises to level up :)"
      ]
    },
    {
      "attachments": {},
      "cell_type": "markdown",
      "metadata": {
        "id": "OFt6NKOz6iBZ"
      },
      "source": [
        "## section 1: derivatives"
      ]
    },
    {
      "cell_type": "code",
      "execution_count": 1,
      "metadata": {
        "id": "3Jx9fCXl5xHd"
      },
      "outputs": [
        {
          "name": "stdout",
          "output_type": "stream",
          "text": [
            "6.336362190988558\n"
          ]
        }
      ],
      "source": [
        "# here is a mathematical expression that takes 3 inputs and produces one output\n",
        "from math import sin, cos\n",
        "\n",
        "def f(a, b, c):\n",
        "  return -a**3 + sin(3*b) - 1.0/c + b**2.5 - a**0.5\n",
        "\n",
        "print(f(2, 3, 4))"
      ]
    },
    {
      "cell_type": "code",
      "execution_count": 2,
      "metadata": {
        "id": "qXaH59eL9zxf"
      },
      "outputs": [
        {
          "name": "stdout",
          "output_type": "stream",
          "text": [
            "OK for dim 0: expected -12.353553390593273, yours returns -12.353553390593273\n",
            "OK for dim 1: expected 10.25699027111255, yours returns 10.25699027111255\n",
            "OK for dim 2: expected 0.0625, yours returns 0.0625\n"
          ]
        }
      ],
      "source": [
        "# write the function df that returns the analytical gradient of f\n",
        "# i.e. use your skills from calculus to take the derivative, then implement the formula\n",
        "# if you do not calculus then feel free to ask wolframalpha, e.g.:\n",
        "# https://www.wolframalpha.com/input?i=d%2Fda%28sin%283*a%29%29%29\n",
        "\n",
        "def gradf(a, b, c):\n",
        "  grada = -3*a**2 - 0.5 * a ** (-0.5)\n",
        "  gradb = 3 * cos(3*b) + 2.5 * b ** 1.5\n",
        "  gradc = c**-2\n",
        "  return [grada, gradb, gradc] # todo, return [df/da, df/db, df/dc]\n",
        "\n",
        "# expected answer is the list of \n",
        "ans = [-12.353553390593273, 10.25699027111255, 0.0625]\n",
        "yours = gradf(2, 3, 4)\n",
        "for dim in range(3):\n",
        "  ok = 'OK' if abs(yours[dim] - ans[dim]) < 1e-5 else 'WRONG!'\n",
        "  print(f\"{ok} for dim {dim}: expected {ans[dim]}, yours returns {yours[dim]}\")\n"
      ]
    },
    {
      "cell_type": "code",
      "execution_count": 3,
      "metadata": {
        "id": "_27n-KTA9Qla"
      },
      "outputs": [
        {
          "name": "stdout",
          "output_type": "stream",
          "text": [
            "OK for dim 0: expected -12.353553390593273, yours returns -12.353559348809995\n",
            "OK for dim 1: expected 10.25699027111255, yours returns 10.256991666679482\n",
            "OK for dim 2: expected 0.0625, yours returns 0.062499984743169534\n"
          ]
        }
      ],
      "source": [
        "# now estimate the gradient numerically without any calculus, using\n",
        "# the approximation we used in the video.\n",
        "# you should not call the function df from the last cell\n",
        "\n",
        "\n",
        "def gradf_num(a, b, c, h=0.000001):\n",
        "  grada = (f(a+h, b, c) - f(a, b, c))/h\n",
        "  gradb = (f(a, b+h, c) - f(a, b, c))/h\n",
        "  gradc = (f(a, b, c+h) - f(a, b, c))/h\n",
        "  return [grada, gradb, gradc] # todo, return [df/da, df/db, df/dc]\n",
        "\n",
        "# -----------\n",
        "numerical_grad = gradf_num(2, 3, 4) # TODO\n",
        "# -----------\n",
        "\n",
        "for dim in range(3):\n",
        "  ok = 'OK' if abs(numerical_grad[dim] - ans[dim]) < 1e-5 else 'WRONG!'\n",
        "  print(f\"{ok} for dim {dim}: expected {ans[dim]}, yours returns {numerical_grad[dim]}\")\n"
      ]
    },
    {
      "cell_type": "code",
      "execution_count": 4,
      "metadata": {
        "id": "BUqsGb5o_h2P"
      },
      "outputs": [
        {
          "name": "stdout",
          "output_type": "stream",
          "text": [
            "OK for dim 0: expected -12.353553390593273, yours returns -12.353553391353245\n",
            "OK for dim 1: expected 10.25699027111255, yours returns 10.25699027401572\n",
            "OK for dim 2: expected 0.0625, yours returns 0.06250000028629188\n"
          ]
        }
      ],
      "source": [
        "# there is an alternative formula that provides a much better numerical \n",
        "# approximation to the derivative of a function.\n",
        "# learn about it here: https://en.wikipedia.org/wiki/Symmetric_derivative\n",
        "# implement it. confirm that for the same step size h this version gives a\n",
        "# better approximation.\n",
        "\n",
        "def gradf_num2(a, b, c, h=0.000001):\n",
        "  grada = (f(a+h, b, c) - f(a-h, b, c))/(2*h)\n",
        "  gradb = (f(a, b+h, c) - f(a, b-h, c))/(2*h)\n",
        "  gradc = (f(a, b, c+h) - f(a, b, c-h))/(2*h)\n",
        "  return [grada, gradb, gradc] # todo, return [df/da, df/db, df/dc]\n",
        "\n",
        "# -----------\n",
        "numerical_grad2 = gradf_num2(2, 3, 4) # TODO\n",
        "# -----------\n",
        "\n",
        "for dim in range(3):\n",
        "  ok = 'OK' if abs(numerical_grad2[dim] - ans[dim]) < 1e-5 else 'WRONG!'\n",
        "  print(f\"{ok} for dim {dim}: expected {ans[dim]}, yours returns {numerical_grad2[dim]}\")\n"
      ]
    },
    {
      "cell_type": "code",
      "execution_count": 5,
      "metadata": {},
      "outputs": [
        {
          "name": "stdout",
          "output_type": "stream",
          "text": [
            "a\n",
            "gradf_num 1.5256830465659732e-08\n",
            "gradf_num2 2.8629187909245957e-10\n",
            "b\n",
            "gradf_num 1.5256830465659732e-08\n",
            "gradf_num2 2.8629187909245957e-10\n",
            "c\n",
            "gradf_num 1.5256830465659732e-08\n",
            "gradf_num2 2.8629187909245957e-10\n"
          ]
        }
      ],
      "source": [
        "h = 0.000001\n",
        "numerical_grad = gradf_num(2, 3, 4, h)\n",
        "numerical_grad2 = gradf_num2(2, 3, 4, h)\n",
        "\n",
        "for i, var in enumerate([\"a\", \"b\", \"c\"]):\n",
        "    print(var)\n",
        "\n",
        "    # get the absolute value difference\n",
        "    one = abs(numerical_grad[dim] - ans[dim])\n",
        "    two = abs(numerical_grad2[dim] - ans[dim])\n",
        "\n",
        "\n",
        "    print(\"gradf_num\", one)\n",
        "    print(\"gradf_num2\", two)"
      ]
    },
    {
      "cell_type": "code",
      "execution_count": 6,
      "metadata": {},
      "outputs": [
        {
          "data": {
            "image/png": "[encoded data removed]",
            "text/plain": [
              "<Figure size 432x288 with 1 Axes>"
            ]
          },
          "metadata": {
            "needs_background": "light"
          },
          "output_type": "display_data"
        }
      ],
      "source": [
        "import numpy as np\n",
        "import matplotlib.pyplot as plt\n",
        "hs = np.linspace(0.0000000001, 0.00001, 1000)\n",
        "numerical_grads = []\n",
        "numerical_grads2 = []\n",
        "\n",
        "for h in hs:\n",
        "    # get the gradients\n",
        "    numerical_grad = gradf_num(2, 3, 4, h)\n",
        "    numerical_grad2 = gradf_num2(2, 3, 4, h)\n",
        "\n",
        "    grad1_loss = 0\n",
        "    grad2_loss = 0\n",
        "\n",
        "    # get the absolute value difference\n",
        "    for dim in range(3):\n",
        "        grad1_loss += abs(numerical_grad[dim] - ans[dim])\n",
        "        grad2_loss += abs(numerical_grad2[dim] - ans[dim])\n",
        "\n",
        "    numerical_grads.append(grad1_loss)\n",
        "    numerical_grads2.append(grad2_loss)\n",
        "\n",
        "plt.plot(hs, numerical_grads, label=\"numerical derivative\")\n",
        "plt.plot(hs, numerical_grads2, label=\"symmetrical derivative\")\n",
        "plt.title(f\"loss vals for h range from {hs[0]} to {hs[-1]}\")\n",
        "plt.legend()\n",
        "plt.show()\n"
      ]
    },
    {
      "attachments": {},
      "cell_type": "markdown",
      "metadata": {
        "id": "tklF9s_4AtlI"
      },
      "source": [
        "## section 2: support for softmax"
      ]
    },
    {
      "cell_type": "code",
      "execution_count": 7,
      "metadata": {
        "id": "nAPe_RVrCTeO"
      },
      "outputs": [],
      "source": [
        "# Value class starter code, with many functions taken out\n",
        "from math import exp, log\n",
        "\n",
        "class Value:\n",
        "  \n",
        "  def __init__(self, data, _children=(), _op='', label=''):\n",
        "    self.data = data\n",
        "    self.grad = 0.0\n",
        "    self._backward = lambda: None\n",
        "    self._prev = set(_children)\n",
        "    self._op = _op\n",
        "    self.label = label\n",
        "\n",
        "  def __repr__(self):\n",
        "    return f\"Value(data={self.data})\"\n",
        "  \n",
        "  def __add__(self, other): # exactly as in the video\n",
        "    other = other if isinstance(other, Value) else Value(other)\n",
        "    out = Value(self.data + other.data, (self, other), '+')\n",
        "    \n",
        "    def _backward():\n",
        "      self.grad += 1.0 * out.grad\n",
        "      other.grad += 1.0 * out.grad\n",
        "    out._backward = _backward\n",
        "    \n",
        "    return out\n",
        "\n",
        "  def __radd__(self, other):\n",
        "      '''Handle other + self by reformatting it as self + other'''\n",
        "      return self + other  # Uses the __add__ method\n",
        "  \n",
        "  # ------\n",
        "  # re-implement all the other functions needed for the exercises below\n",
        "  # your code here\n",
        "  # TODO\n",
        "  # ------\n",
        "\n",
        "  def __mul__(self, other):\n",
        "      '''Multiply two Value objects and add resulting parent node to graph'''\n",
        "      # if other is already a Value object, do nothing, if other is an int, for example, make it a Value\n",
        "      other = other if isinstance(other, Value) else Value(other)\n",
        "\n",
        "      # compute the forward pass - get the parent node \n",
        "      out = Value(self.data * other.data, (self, other), '*')\n",
        "\n",
        "      def _backward():\n",
        "          # out = self * other\n",
        "          # self.grad = dRoot/self = dRoot/dout * dout/dself = out.grad * d/dself[self * other] = out.grad * other\n",
        "          # the same can be said for other.grad\n",
        "            self.grad += out.grad * other.data\n",
        "            other.grad += out.grad * self.data \n",
        "      \n",
        "      # set rule for propagating grad to children\n",
        "      out._backward = _backward\n",
        "      return out\n",
        "  \n",
        "  def __rmul__(self, other):\n",
        "      '''Handle other * self by reformatting it as self * other'''\n",
        "      # check if can do other.__mul__(self), if not, then do self.__mul__(other)\n",
        "      # this helps for case of int: a times Value: b   -->   a.__mul__(b) --> b.__mul__(a) \n",
        "      return self * other\n",
        "\n",
        "  def __truediv__(self, other):\n",
        "      '''Divide self by other and add resulting parent node to graph'''\n",
        "      # implemented using pow() method with value -1\n",
        "      return self * other**-1\n",
        "  \n",
        "  def __rtruediv__(self, other):\n",
        "    '''Handle other / self by reformatting it as other * self.__pow__(-1)'''\n",
        "    return other * self.__pow__(-1)  # Uses the __pow__ and __mul__ methods.\n",
        "\n",
        "  def __pow__(self, other):\n",
        "      '''Raise self to a power specified by other and add resulting parent Value to graph'''\n",
        "      # assert isinstance(other, (int, float)), \"only supporting int/float powers for now\"\n",
        "\n",
        "      # other = other if isinstance(other, Value) else Value(other)\n",
        "      if isinstance(other, (Value)):\n",
        "        other = other.data\n",
        "\n",
        "\n",
        "      # compute the forward pass - get the parent node \n",
        "      out = Value(self.data**other, (self,), f'**{other}')\n",
        "\n",
        "      def _backward():\n",
        "          # out = self ** other\n",
        "          # self.grad = dRoot/dself = dRoot/dout * dout/dself = out.grad * d/dself[self ** other] = out.grad * (other * self**(other-1))\n",
        "          self.grad += out.grad * (other * self.data ** (other-1)) # chain the local derivative dout/dself to the rest of the product chain dRoot/dout\n",
        "\n",
        "      # set rule for propagating grad to children\n",
        "      out._backward = _backward\n",
        "      return out\n",
        "\n",
        "  def __sub__(self, other):\n",
        "      '''Subtract other from self using other.__neg__() and add resulting parent node to graph'''\n",
        "      return self + (-other)\n",
        "  \n",
        "  def __rsub__(self, other):\n",
        "      '''Handle other - self by reformatting it as self.__neg__() + other'''\n",
        "      return other + (-self)  # Uses the __neg__ and __add__ methods.\n",
        "\n",
        "  def __neg__(self):\n",
        "      '''Negate a Value a add resulting parent node to graph'''\n",
        "      return self * -1\n",
        "\n",
        "  def exp(self):\n",
        "    '''Exponentiate a single Value (e^val) and add resulting parent node to graph'''\n",
        "    # get the data from the input node\n",
        "    x = self.data\n",
        "\n",
        "    # compute the forward pass -> create the parent node\n",
        "    out = Value(exp(x), (self,), 'exp')\n",
        "    \n",
        "    def _backward():\n",
        "      # out = e^self\n",
        "      # self.grad = dR/dself = dR/dout * dout/dself = out.grad * d/dself[e^self] = out.grad * e^self = out.grad * self.data\n",
        "      self.grad += out.grad * self.data\n",
        "\n",
        "    # set the rule for propagating grad to child\n",
        "    out._backward = _backward\n",
        "    \n",
        "    return out\n",
        "\n",
        "  def log(self):\n",
        "    '''Take the natural logarithm of a single value and add resulting parent node to graph'''\n",
        "    # get the data from the input node\n",
        "    x = self.data\n",
        "\n",
        "    # compute the forward pass -> create the parent node\n",
        "    out = Value(log(x), (self,), 'log')\n",
        "    \n",
        "    def _backward():\n",
        "      # out = log(self)  (natural log)\n",
        "      # self.grad = dR/dself = dR/dout * dout/dself = out.grad * d/dself(log(self)) = out.grad * 1/self\n",
        "      self.grad += out.grad * 1/x\n",
        "    out._backward = _backward\n",
        "    \n",
        "    return out\n",
        "\n",
        "\n",
        "\n",
        "\n",
        "\n",
        "\n",
        "  def backward(self): # exactly as in video  \n",
        "    topo = []\n",
        "    visited = set()\n",
        "    def build_topo(v):\n",
        "      if v not in visited:\n",
        "        visited.add(v)\n",
        "        for child in v._prev:\n",
        "          build_topo(child)\n",
        "        topo.append(v)\n",
        "    build_topo(self)\n",
        "    \n",
        "    self.grad = 1.0\n",
        "    for node in reversed(topo):\n",
        "      node._backward()"
      ]
    },
    {
      "cell_type": "code",
      "execution_count": 8,
      "metadata": {},
      "outputs": [
        {
          "data": {
            "text/plain": [
              "Value(data=2.0)"
            ]
          },
          "execution_count": 8,
          "metadata": {},
          "output_type": "execute_result"
        }
      ],
      "source": [
        "vals = [Value(0.0), Value(3.0), Value(-2.0), Value(1.0)]\n",
        "sum(vals)"
      ]
    },
    {
      "cell_type": "code",
      "execution_count": 9,
      "metadata": {},
      "outputs": [],
      "source": [
        "# from math import exp, log\n",
        "\n",
        "# for val in vals:\n",
        "#     print(\"val:\", val.data)\n",
        "#     print(exp(val.data))\n",
        "#     print(val.exp().data)\n",
        "\n",
        "# for val in vals:\n",
        "#     print(\"val:\", val.data)\n",
        "#     print(log(val.data))\n",
        "#     print(val.log().data)"
      ]
    },
    {
      "cell_type": "code",
      "execution_count": 10,
      "metadata": {},
      "outputs": [
        {
          "name": "stdout",
          "output_type": "stream",
          "text": [
            "[0.04177257051535045, 0.839024507462532, 0.005653302662216329, 0.11354961935990121]\n",
            "2.1755153626167147\n"
          ]
        }
      ],
      "source": [
        "def softmax(logits):\n",
        "  counts = [exp(logit) for logit in logits]  # list of Values.exp()\n",
        "  denominator = sum(counts)                   # Value\n",
        "  out = [c / denominator for c in counts]     # list of Value.exp() / Value\n",
        "  return out\n",
        "\n",
        "logits = [0, 3, -2, 1]\n",
        "probs = softmax(logits)\n",
        "print(probs)\n",
        "\n",
        "loss = -log(probs[3])\n",
        "print(loss)"
      ]
    },
    {
      "cell_type": "code",
      "execution_count": 11,
      "metadata": {
        "id": "VgWvwVQNAvnI"
      },
      "outputs": [
        {
          "name": "stdout",
          "output_type": "stream",
          "text": [
            "2.1755153626167147\n",
            "WRONG! for dim 0: expected 0.041772570515350445, yours returns 0.0\n",
            "WRONG! for dim 1: expected 0.8390245074625319, yours returns 0.12531771154605134\n",
            "WRONG! for dim 2: expected 0.005653302662216329, yours returns -0.08354514103070089\n",
            "WRONG! for dim 3: expected -0.8864503806400986, yours returns -0.32610687065609184\n"
          ]
        }
      ],
      "source": [
        "# without referencing our code/video __too__ much, make this cell work\n",
        "# you'll have to implement (in some cases re-implemented) a number of functions\n",
        "# of the Value object, similar to what we've seen in the video.\n",
        "# instead of the squared error loss this implements the negative log likelihood\n",
        "# loss, which is very often used in classification.\n",
        "\n",
        "# this is the softmax function\n",
        "# https://en.wikipedia.org/wiki/Softmax_function\n",
        "def softmax(logits):\n",
        "  counts = [logit.exp() for logit in logits]  # list of Values.exp()\n",
        "  denominator = sum(counts)                   # Value\n",
        "  out = [c / denominator for c in counts]     # list of Value.exp() / Value\n",
        "  return out\n",
        "\n",
        "# this is the negative log likelihood loss function, pervasive in classification\n",
        "logits = [Value(0.0), Value(3.0), Value(-2.0), Value(1.0)]\n",
        "probs = softmax(logits)\n",
        "\n",
        "# print(probs)\n",
        "\n",
        "loss = -probs[3].log() # dim 3 acts as the label for this input example\n",
        "loss.backward()\n",
        "print(loss.data)\n",
        "\n",
        "ans = [0.041772570515350445, 0.8390245074625319, 0.005653302662216329, -0.8864503806400986]\n",
        "for dim in range(4):\n",
        "  ok = 'OK' if abs(logits[dim].grad - ans[dim]) < 1e-5 else 'WRONG!'\n",
        "  print(f\"{ok} for dim {dim}: expected {ans[dim]}, yours returns {logits[dim].grad}\")\n"
      ]
    },
    {
      "cell_type": "code",
      "execution_count": 12,
      "metadata": {
        "id": "q7ca1SVAGG1S"
      },
      "outputs": [],
      "source": [
        "# verify the gradient using the torch library\n",
        "# torch should give you the exact same gradient\n",
        "import torch\n"
      ]
    }
  ],
  "metadata": {
    "colab": {
      "provenance": []
    },
    "kernelspec": {
      "display_name": "Python 3",
      "name": "python3"
    },
    "language_info": {
      "codemirror_mode": {
        "name": "ipython",
        "version": 3
      },
      "file_extension": ".py",
      "mimetype": "text/x-python",
      "name": "python",
      "nbconvert_exporter": "python",
      "pygments_lexer": "ipython3",
      "version": "3.9.7"
    }
  },
  "nbformat": 4,
  "nbformat_minor": 0
}
